{
 "cells": [
  {
   "cell_type": "markdown",
   "id": "da6ede54",
   "metadata": {},
   "source": [
    "import numpy as np\n",
    "import pandas as pd\n",
    "import seaborn as sns\n",
    "import matplotlib.pyplot as plt\n",
    "\n",
    "from sklearn.model_selection import train_test_split\n",
    "from sklearn.linear_model import LogisticRegression\n",
    "from sklearn.naive_bayes import GaussianNB\n",
    "from sklearn.neighbors import KNeighborsClassifier\n",
    "from sklearn.tree import DecisionTreeClassifier\n",
    "from sklearn.svm import SVC\n",
    "from sklearn import metrics\n",
    "from sklearn.metrics import accuracy_score\n",
    "from sklearn.metrics import confusion_matrix\n",
    "from sklearn.metrics import accuracy_score, precision_score, recall_score, f1_score\n",
    "\n",
    "import joblib\n",
    "import numpy as np # linear algebra\n",
    "import pandas as pd # data processing, CSV file I/O (e.g. pd.read_csv)\n",
    "\n",
    "# Input data files are available in the read-only \"../input/\" directory\n",
    "# For example, running this (by clicking run or pressing Shift+Enter) will list all files under the input directory\n",
    "\n",
    "import os\n",
    "for dirname, _, filenames in os.walk(r'C:\\Users\\user\\OneDrive\\mental health\\mental_health_finaldata_1.csv'):\n",
    "    for filename in filenames:\n",
    "        print(os.path.join(dirname, filename))"
   ]
  },
  {
   "cell_type": "markdown",
   "id": "5d8c0f5f",
   "metadata": {},
   "source": [
    "mentalhealth_data = pd.read_csv(r'C:\\Users\\user\\OneDrive\\mental health\\mental_health_finaldata_1.csv')\n",
    "mentalhealth_data.head(10)"
   ]
  },
  {
   "cell_type": "markdown",
   "id": "245c5206",
   "metadata": {},
   "source": [
    "mentalhealth_data.columns"
   ]
  },
  {
   "cell_type": "markdown",
   "id": "c9c4953c",
   "metadata": {},
   "source": [
    "mentalhealth_data.shape"
   ]
  },
  {
   "cell_type": "markdown",
   "id": "74455062",
   "metadata": {},
   "source": [
    "mentalhealth_data.describe()"
   ]
  },
  {
   "cell_type": "markdown",
   "id": "87f74ff0",
   "metadata": {},
   "source": [
    "mentalhealth_data['Occupation'] = mentalhealth_data['Occupation'].astype(str)\n"
   ]
  },
  {
   "cell_type": "markdown",
   "id": "4a8a678a",
   "metadata": {},
   "source": [
    "columns_to_convert = ['Days_Indoors', 'Growing_Stress', 'Quarantine_Frustrations','Changes_Habits','Mental_Health_History','Weight_Change','Mood_Swings','Coping_Struggles','Work_Interest','Social_Weakness' ]\n",
    "mentalhealth_data[columns_to_convert] = mentalhealth_data[columns_to_convert].astype(str)\n"
   ]
  },
  {
   "cell_type": "markdown",
   "id": "d50286b6",
   "metadata": {},
   "source": [
    "mentalhealth_data.isnull().sum()"
   ]
  },
  {
   "cell_type": "markdown",
   "id": "bf3243f5",
   "metadata": {},
   "source": []
  },
  {
   "cell_type": "markdown",
   "id": "1bd6f0b0",
   "metadata": {},
   "source": [
    "mentalhealth_data['Mood_Swings'].value_counts()"
   ]
  },
  {
   "cell_type": "markdown",
   "id": "01973310",
   "metadata": {},
   "source": [
    "sns.countplot(x=mentalhealth_data['Mood_Swings'])\n",
    "# distribution of target"
   ]
  },
  {
   "cell_type": "markdown",
   "id": "ae061ae4",
   "metadata": {},
   "source": [
    "mentalhealth_data = pd.get_dummies(mentalhealth_data, columns=['Gender', 'Occupation'])  # Assuming Gender and Occupation are categorical\n"
   ]
  },
  {
   "cell_type": "markdown",
   "id": "87d003b1",
   "metadata": {},
   "source": [
    "sns.pairplot(mentalhealth_data, hue='Mood_Swings', vars=['Age', 'Changes_Habits', 'Weight_Change', 'Growing_Stress', 'Coping_Struggles', 'Social_Weakness'])\n"
   ]
  },
  {
   "cell_type": "code",
   "execution_count": 31,
   "id": "0aedaa7e",
   "metadata": {},
   "outputs": [],
   "source": [
    "import numpy as np\n",
    "import pandas as pd\n",
    "import seaborn as sns\n",
    "import matplotlib.pyplot as plt\n",
    "\n",
    "# Load the data\n",
    "mentalhealth_data = pd.read_csv(r'C:\\Users\\user\\OneDrive\\mental health\\mental_health_finaldata_1.csv')\n",
    "\n",
    "# Convert categorical columns to string\n",
    "columns_to_convert = ['Days_Indoors', 'Growing_Stress', 'Quarantine_Frustrations',\n",
    "                      'Changes_Habits', 'Mental_Health_History', 'Weight_Change',\n",
    "                      'Mood_Swings', 'Coping_Struggles', 'Work_Interest', 'Social_Weakness']\n",
    "mentalhealth_data[columns_to_convert] = mentalhealth_data[columns_to_convert].astype(str)\n"
   ]
  },
  {
   "cell_type": "code",
   "execution_count": 32,
   "id": "c146d7dc",
   "metadata": {},
   "outputs": [
    {
     "name": "stdout",
     "output_type": "stream",
     "text": [
      "Age                        0\n",
      "Gender                     0\n",
      "Occupation                 0\n",
      "Days_Indoors               0\n",
      "Growing_Stress             0\n",
      "Quarantine_Frustrations    0\n",
      "Changes_Habits             0\n",
      "Mental_Health_History      0\n",
      "Weight_Change              0\n",
      "Mood_Swings                0\n",
      "Coping_Struggles           0\n",
      "Work_Interest              0\n",
      "Social_Weakness            0\n",
      "dtype: int64\n"
     ]
    }
   ],
   "source": [
    "# Check for missing values\n",
    "print(mentalhealth_data.isnull().sum())"
   ]
  },
  {
   "cell_type": "code",
   "execution_count": 33,
   "id": "fffca190",
   "metadata": {},
   "outputs": [
    {
     "name": "stdout",
     "output_type": "stream",
     "text": [
      "Medium    280\n",
      "Low       278\n",
      "High      266\n",
      "Name: Mood_Swings, dtype: int64\n"
     ]
    }
   ],
   "source": [
    "print(mentalhealth_data['Mood_Swings'].value_counts())\n"
   ]
  },
  {
   "cell_type": "code",
   "execution_count": 34,
   "id": "6ec070b8",
   "metadata": {},
   "outputs": [
    {
     "data": {
      "image/png": "[encoded data removed]",
      "text/plain": [
       "<Figure size 800x600 with 1 Axes>"
      ]
     },
     "metadata": {},
     "output_type": "display_data"
    }
   ],
   "source": [
    "plt.figure(figsize=(8, 6))\n",
    "sns.countplot(x=mentalhealth_data['Mood_Swings'])\n",
    "plt.show()"
   ]
  },
  {
   "cell_type": "markdown",
   "id": "026a7bdc",
   "metadata": {},
   "source": [
    "# Plot heatmap of correlation matrix\n",
    "plt.figure(figsize=(10, 8))\n",
    "sns.heatmap(mentalhealth_data.corr(), annot=True, cmap='coolwarm', linewidths=2)\n",
    "plt.show()"
   ]
  },
  {
   "cell_type": "code",
   "execution_count": 37,
   "id": "636f3ba6",
   "metadata": {},
   "outputs": [
    {
     "name": "stdout",
     "output_type": "stream",
     "text": [
      "Age                        0\n",
      "Gender                     0\n",
      "Occupation                 0\n",
      "Days_Indoors               0\n",
      "Growing_Stress             0\n",
      "Quarantine_Frustrations    0\n",
      "Changes_Habits             0\n",
      "Mental_Health_History      0\n",
      "Weight_Change              0\n",
      "Mood_Swings                0\n",
      "Coping_Struggles           0\n",
      "Work_Interest              0\n",
      "Social_Weakness            0\n",
      "dtype: int64\n"
     ]
    }
   ],
   "source": [
    "# Check for missing values\n",
    "print(mentalhealth_data.isnull().sum())\n",
    "\n",
    "\n"
   ]
  },
  {
   "cell_type": "code",
   "execution_count": null,
   "id": "51b82eb9",
   "metadata": {},
   "outputs": [],
   "source": []
  }
 ],
 "metadata": {
  "kernelspec": {
   "display_name": "Python 3 (ipykernel)",
   "language": "python",
   "name": "python3"
  },
  "language_info": {
   "codemirror_mode": {
    "name": "ipython",
    "version": 3
   },
   "file_extension": ".py",
   "mimetype": "text/x-python",
   "name": "python",
   "nbconvert_exporter": "python",
   "pygments_lexer": "ipython3",
   "version": "3.11.3"
  }
 },
 "nbformat": 4,
 "nbformat_minor": 5
}
